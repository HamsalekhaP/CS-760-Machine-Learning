{
 "cells": [
  {
   "cell_type": "code",
   "execution_count": 2,
   "metadata": {},
   "outputs": [],
   "source": [
    "import numpy as np\n",
    "from matplotlib import pyplot as plt\n",
    "from PIL import Image\n",
    "\n",
    "%matplotlib inline"
   ]
  },
  {
   "cell_type": "markdown",
   "metadata": {},
   "source": [
    "### Read data and get to numpy format"
   ]
  },
  {
   "cell_type": "code",
   "execution_count": 34,
   "metadata": {},
   "outputs": [
    {
     "name": "stdout",
     "output_type": "stream",
     "text": [
      "(200, 256)\n",
      "(200, 256)\n"
     ]
    }
   ],
   "source": [
    "X_three, X_eight = [], []\n",
    "\n",
    "with open('three.txt', 'r') as f:\n",
    "    for line in f:\n",
    "        line = line.strip()\n",
    "        if line:\n",
    "            values = line.split(' ')\n",
    "        else:\n",
    "            continue\n",
    "        X_three.append([int(i) for i in values[:]])\n",
    "        \n",
    "X_three=np.array(X_three)\n",
    "print(X_three.shape)\n",
    "\n",
    "with open('eight.txt', 'r') as f:\n",
    "    for line in f:\n",
    "        line = line.strip()\n",
    "        if line:\n",
    "            values = line.split(' ')\n",
    "        else:\n",
    "            continue\n",
    "        X_eight.append([int(i) for i in values[:]])\n",
    "        \n",
    "X_eight=np.array(X_eight)\n",
    "print(X_eight.shape)"
   ]
  },
  {
   "cell_type": "markdown",
   "metadata": {},
   "source": [
    "### 1Q1"
   ]
  },
  {
   "cell_type": "code",
   "execution_count": 56,
   "metadata": {},
   "outputs": [
    {
     "name": "stdout",
     "output_type": "stream",
     "text": [
      "[  0   0   0   0   0   0   0   0   0   0   0   5 135 135  67   0   0   0\n",
      "   0   0   0   0   0  19  55   0   0  33 178 202 230  20   0   0   0   0\n",
      "   0   0   0 157 207   0   0   0   0  40 255 148   0   0   0   0   0   0\n",
      "   0 157 235   0   0   0   0  12 228 176   0   0   0   0   0   0   0 157\n",
      " 250  44   0   0   0  12 228 176 109  76   0   0   0   0   0 157 255  58\n",
      "   0   0   0  40 255 176 177 170   0   0   0   0   0 157 255  58   0   0\n",
      "   0  73 255 106  66 216   0   0   0   0   0 120 255  58   0   0   0 156\n",
      " 255  60  11 227  86   0   0   0   0 157 255 105   0   0  20 255 223   9\n",
      "   8 211 203   2   0   0   0 167 255 239  23  10 122 255 186   0   0 118\n",
      " 255  33   0   0   0 236 241 255 179 193 255 255 103   0   0  62 255 172\n",
      "   0   0  61 249 162 176 255 255 255 189  11   0   0   9 202 255 107   0\n",
      " 138 255  73   9 124 179  59  13   0   0   0   0  51 220 252 211 235 227\n",
      "   0   0   0   0   0   0   0   0   0   0   0  55 223 255 255 107   0   0\n",
      "   0   0   0   0   0   0   0   0   0   0  56 134  69   5   0   0   0   0\n",
      "   0   0   0   0]\n",
      "[[  0   0   0   0   0 109 177  66  11   8   0   0   0   0   0   0]\n",
      " [  0   0   0   0   0  76 170 216 227 211 118  62   9   0   0   0]\n",
      " [  0   0   0   0   0   0   0   0  86 203 255 255 202  51   0   0]\n",
      " [  0   0   0   0   0   0   0   0   0   2  33 172 255 220  55   0]\n",
      " [  0   0   0   0   0   0   0   0   0   0   0   0 107 252 223  56]\n",
      " [  0   0   0   0   0   0   0   0   0   0   0   0   0 211 255 134]\n",
      " [  0   0   0   0   0   0   0   0   0   0   0  61 138 235 255  69]\n",
      " [  0  19 157 157 157 157 157 120 157 167 236 249 255 227 107   5]\n",
      " [  0  55 207 235 250 255 255 255 255 255 241 162  73   0   0   0]\n",
      " [  0   0   0   0  44  58  58  58 105 239 255 176   9   0   0   0]\n",
      " [  0   0   0   0   0   0   0   0   0  23 179 255 124   0   0   0]\n",
      " [  5  33   0   0   0   0   0   0   0  10 193 255 179   0   0   0]\n",
      " [135 178   0   0   0   0   0   0  20 122 255 255  59   0   0   0]\n",
      " [135 202  40  12  12  40  73 156 255 255 255 189  13   0   0   0]\n",
      " [ 67 230 255 228 228 255 255 255 223 186 103  11   0   0   0   0]\n",
      " [  0  20 148 176 176 176 106  60   9   0   0   0   0   0   0   0]]\n",
      "Image from three.txt\n"
     ]
    },
    {
     "data": {
      "image/png": "[encoded data removed]",
      "text/plain": [
       "<Figure size 432x288 with 1 Axes>"
      ]
     },
     "metadata": {
      "needs_background": "light"
     },
     "output_type": "display_data"
    },
    {
     "name": "stdout",
     "output_type": "stream",
     "text": [
      "Image from eight.txt\n"
     ]
    },
    {
     "data": {
      "image/png": "[encoded data removed]",
      "text/plain": [
       "<Figure size 432x288 with 1 Axes>"
      ]
     },
     "metadata": {
      "needs_background": "light"
     },
     "output_type": "display_data"
    }
   ],
   "source": [
    "\n",
    "three_row=X_three[0,:]\n",
    "print(three_row)\n",
    "plt.imshow(np.transpose(three_row.reshape((16,16))), interpolation='nearest',cmap=\"gray\")\n",
    "print(np.transpose(three_row.reshape((16,16))))\n",
    "print('Image from three.txt')\n",
    "plt.show()\n",
    "\n",
    "eight_row=X_eight[0,:]\n",
    "#print(eight_row.shape)\n",
    "plt.imshow(np.transpose(eight_row.reshape((16,16))), interpolation='nearest',cmap=\"gray\")\n",
    "print('Image from eight.txt')\n",
    "plt.show()"
   ]
  },
  {
   "cell_type": "markdown",
   "metadata": {},
   "source": [
    "### 1Q2"
   ]
  },
  {
   "cell_type": "code",
   "execution_count": 36,
   "metadata": {},
   "outputs": [
    {
     "name": "stdout",
     "output_type": "stream",
     "text": [
      "(400, 256)\n"
     ]
    }
   ],
   "source": [
    "## Combine the two datafiles to one. This is a 400x256 matrix\n",
    "stacked = np.concatenate((X_three, X_eight), axis=0)\n",
    "print(stacked.shape)\n"
   ]
  },
  {
   "cell_type": "code",
   "execution_count": 37,
   "metadata": {},
   "outputs": [
    {
     "name": "stdout",
     "output_type": "stream",
     "text": [
      "Mean Image\n"
     ]
    },
    {
     "data": {
      "image/png": "[encoded data removed]",
      "text/plain": [
       "<Figure size 432x288 with 1 Axes>"
      ]
     },
     "metadata": {
      "needs_background": "light"
     },
     "output_type": "display_data"
    }
   ],
   "source": [
    "#1Q2\n",
    "mean_image = np.mean(stacked,axis=0)\n",
    "plt.imshow(np.transpose(mean_image.reshape((16,16))), interpolation='nearest',cmap=\"gray\")\n",
    "print('Mean Image')\n",
    "plt.show()"
   ]
  },
  {
   "cell_type": "markdown",
   "metadata": {},
   "source": [
    "### 1Q3"
   ]
  },
  {
   "cell_type": "code",
   "execution_count": 38,
   "metadata": {},
   "outputs": [
    {
     "name": "stdout",
     "output_type": "stream",
     "text": [
      "(400, 256)\n",
      "(256,)\n",
      "(400, 256)\n",
      "400\n"
     ]
    }
   ],
   "source": [
    "print(stacked.shape)\n",
    "print(mean_image.shape)\n",
    "#mean centered dataset\n",
    "mean_centered_img = stacked - mean_image\n",
    "print(mean_centered_img.shape)\n",
    "print(mean_centered_img.shape[0])"
   ]
  },
  {
   "cell_type": "code",
   "execution_count": 39,
   "metadata": {},
   "outputs": [
    {
     "name": "stdout",
     "output_type": "stream",
     "text": [
      "S Submatrix\n",
      "[[  59.16729323  142.14943609   28.68201754   -7.17857143  -14.3358396 ]\n",
      " [ 142.14943609  878.93879073  374.13731203   24.12778195  -87.12781955]\n",
      " [  28.68201754  374.13731203 1082.9058584   555.2268797    33.72431078]\n",
      " [  -7.17857143   24.12778195  555.2268797  1181.24408521  777.77192982]\n",
      " [ -14.3358396   -87.12781955   33.72431078  777.77192982 1429.95989975]]\n"
     ]
    }
   ],
   "source": [
    "#cov matrix\n",
    "S = (1/(mean_centered_img.shape[0]-1))*np.matmul(mean_centered_img.T,mean_centered_img)\n",
    "#print(S.shape)\n",
    "#print(stacked.shape)\n",
    "print('S Submatrix')\n",
    "print(S[0:5,0:5])"
   ]
  },
  {
   "cell_type": "code",
   "execution_count": 40,
   "metadata": {},
   "outputs": [
    {
     "name": "stdout",
     "output_type": "stream",
     "text": [
      "[2.37155246e+05 1.45188353e+05 1.31864266e+05 1.07367622e+05\n",
      " 7.55714727e+04 6.23602939e+04 5.69117100e+04 4.98267181e+04\n",
      " 4.79506487e+04 4.30444745e+04 4.36171635e+04 3.90450141e+04\n",
      " 3.61704730e+04 3.26424127e+04 2.85382257e+04 2.58683831e+04\n",
      " 2.38419858e+04 2.18628512e+04 2.15343271e+04 2.08312161e+04\n",
      " 1.93389519e+04 1.83705737e+04 1.71317699e+04 1.61712613e+04\n",
      " 1.57260407e+04 1.52434883e+04 1.44971104e+04 1.44292502e+04\n",
      " 1.31376514e+04 1.24591266e+04 1.20610227e+04 1.15440860e+04\n",
      " 1.13287581e+04 1.10916722e+04 1.06589182e+04 1.02864842e+04\n",
      " 9.86976594e+03 9.58768713e+03 9.36274748e+03 8.76303094e+03\n",
      " 8.50203319e+03 8.11417197e+03 7.53077392e+03 7.31787474e+03\n",
      " 7.00458380e+03 6.72491542e+03 6.60868959e+03 6.21715923e+03\n",
      " 6.07774655e+03 5.86713876e+03 5.67846407e+03 5.36418639e+03\n",
      " 5.20984680e+03 5.08391879e+03 5.07577794e+03 4.90949124e+03\n",
      " 4.85183633e+03 4.55417942e+03 4.52036273e+03 4.31130897e+03\n",
      " 4.15101589e+03 4.02908211e+03 3.95663264e+03 3.83962240e+03\n",
      " 3.75957422e+03 3.72855869e+03 3.62246446e+03 3.51089145e+03\n",
      " 3.43864112e+03 3.26467520e+03 3.12836271e+03 3.00342003e+03\n",
      " 2.87876696e+03 2.83953541e+03 2.82129956e+03 2.72584263e+03\n",
      " 2.59044587e+03 2.57786759e+03 2.45493934e+03 2.42202041e+03\n",
      " 2.36906777e+03 2.31816387e+03 2.23835458e+03 2.16195811e+03\n",
      " 2.07728723e+03 2.02946111e+03 1.97291871e+03 1.92454281e+03\n",
      " 1.90404870e+03 1.84486506e+03 1.79025949e+03 1.52228610e+03\n",
      " 1.73961336e+03 1.56922469e+03 1.70592907e+03 1.61234821e+03\n",
      " 1.63621307e+03 1.65824349e+03 1.48947887e+03 1.45035229e+03\n",
      " 1.39586047e+03 1.41374053e+03 1.33701617e+03 1.15237121e+03\n",
      " 1.16866290e+03 1.19759075e+03 1.23654064e+03 1.27299947e+03\n",
      " 1.29130962e+03 1.28640411e+03 1.11185853e+03 1.10627254e+03\n",
      " 9.08285087e+02 9.26431361e+02 1.04825939e+03 1.03988350e+03\n",
      " 1.01546097e+03 9.98111396e+02 9.63491005e+02 9.77803004e+02\n",
      " 8.68704581e+02 8.59186061e+02 8.22569955e+02 8.19023632e+02\n",
      " 7.25958032e+02 7.78462831e+02 7.75007040e+02 7.48402248e+02\n",
      " 7.59230318e+02 7.15585870e+02 7.00902599e+02 6.95862823e+02\n",
      " 6.84864678e+02 6.73084600e+02 6.57753055e+02 5.87125705e+02\n",
      " 6.23691527e+02 6.02921155e+02 5.81749679e+02 5.65888543e+02\n",
      " 4.69417581e+02 4.75706608e+02 5.40318047e+02 5.37902885e+02\n",
      " 5.37534265e+02 5.11765376e+02 5.02752894e+02 5.07649891e+02\n",
      " 4.59524831e+02 4.44200569e+02 4.35999590e+02 4.30873666e+02\n",
      " 4.18465961e+02 4.19710382e+02 3.72657862e+02 3.99577939e+02\n",
      " 3.88460264e+02 3.92801107e+02 3.68327756e+02 3.55850921e+02\n",
      " 3.52536336e+02 3.44077122e+02 3.38789213e+02 3.31530493e+02\n",
      " 3.10498941e+02 3.12696412e+02 3.02273157e+02 2.91195079e+02\n",
      " 2.96987876e+02 2.78663128e+02 2.73639619e+02 1.37999922e+00\n",
      " 2.64254069e+02 2.53878635e+02 2.48590527e+02 2.47442276e+02\n",
      " 2.36760375e+02 2.33370258e+02 2.28713290e+02 2.24780372e+02\n",
      " 2.20085874e+02 2.15673053e+02 2.08934849e+02 2.05633008e+02\n",
      " 1.97910694e+02 1.91971307e+02 1.84455047e+02 1.82583667e+02\n",
      " 1.90126820e+02 1.74113888e+02 1.70988537e+02 1.66282609e+02\n",
      " 1.54484452e+02 1.61581986e+02 1.59518281e+02 9.56159923e-05\n",
      " 2.77382262e+00 4.19542593e+00 5.84111536e+00 5.67294015e+00\n",
      " 7.53536632e+00 9.20024269e+00 1.31338928e+01 1.42773505e+01\n",
      " 1.59586812e+01 1.82967699e+01 2.07047620e+01 1.51445426e+02\n",
      " 1.44917321e+02 1.42526274e+02 2.21716488e+01 2.51715621e+01\n",
      " 2.71411513e+01 1.31932692e+02 1.27161900e+02 1.37907068e+02\n",
      " 1.39323807e+02 2.29880034e+01 2.86741163e+01 1.21239316e+02\n",
      " 1.20606380e+02 1.13683852e+02 1.12192976e+02 1.06317542e+02\n",
      " 3.40402226e+01 3.47881735e+01 1.07895850e+02 9.89013095e+01\n",
      " 9.59245469e+01 7.98135043e+01 3.24771903e+01 7.17899080e+01\n",
      " 6.72979495e+01 6.33897218e+01 3.69696528e+01 4.78628952e+01\n",
      " 4.20691503e+01 5.36826892e+01 3.99994920e+01 3.86839187e+01\n",
      " 5.06499110e+01 6.05941757e+01 1.03644898e+02 4.37428341e+01\n",
      " 4.60432394e+01 5.75625330e+01 5.15386420e+01 8.83033946e+01\n",
      " 9.16735523e+01 9.12447571e+01 8.54856060e+01 5.88296792e+01\n",
      " 8.57461247e+01 7.51882660e+01 7.31788835e+01 7.64549488e+01]\n"
     ]
    }
   ],
   "source": [
    "#there is one eigen vector per column\n",
    "eig_values, eig_vectors = np.linalg.eig(S)\n",
    "print(eig_values)"
   ]
  },
  {
   "cell_type": "code",
   "execution_count": 57,
   "metadata": {},
   "outputs": [
    {
     "name": "stdout",
     "output_type": "stream",
     "text": [
      "[[-3.11188937e-03+0.j -3.49231480e-03+0.j]\n",
      " [-1.58516918e-02+0.j -2.13942135e-02+0.j]\n",
      " [-1.02047355e-02+0.j -3.26156578e-02+0.j]\n",
      " [-6.12802671e-03+0.j -4.08487996e-02+0.j]\n",
      " [-2.53937630e-03+0.j -4.15826320e-02+0.j]\n",
      " [ 3.48100079e-03+0.j -2.32118241e-02+0.j]\n",
      " [ 1.42336798e-03+0.j -8.98179593e-03+0.j]\n",
      " [-1.79709643e-03+0.j -3.88043482e-03+0.j]\n",
      " [-1.34576221e-03+0.j -7.56606030e-04+0.j]\n",
      " [-1.51868462e-03+0.j -1.00796395e-03+0.j]\n",
      " [-1.24117951e-03+0.j  4.19975495e-03+0.j]\n",
      " [ 2.46951670e-03+0.j  7.01315077e-03+0.j]\n",
      " [ 2.26069694e-02+0.j  2.86004474e-02+0.j]\n",
      " [ 5.64780696e-02+0.j  5.35489039e-02+0.j]\n",
      " [ 6.10269004e-02+0.j  4.24279927e-02+0.j]\n",
      " [ 1.42285576e-02+0.j  7.23344445e-03+0.j]\n",
      " [-1.28177726e-02+0.j -1.72291681e-02+0.j]\n",
      " [-3.54055819e-02+0.j -6.71256403e-02+0.j]\n",
      " [-2.86076423e-02+0.j -1.05345044e-01+0.j]\n",
      " [-5.28890851e-03+0.j -1.26389433e-01+0.j]\n",
      " [ 3.34275441e-03+0.j -1.16472076e-01+0.j]\n",
      " [ 7.57809428e-03+0.j -7.40921734e-02+0.j]\n",
      " [ 4.64506415e-03+0.j -3.93648475e-02+0.j]\n",
      " [-4.41045700e-03+0.j -2.22991020e-02+0.j]\n",
      " [-3.43418790e-03+0.j -1.12334206e-02+0.j]\n",
      " [ 2.89256319e-03+0.j -1.74181981e-02+0.j]\n",
      " [ 1.97104135e-02+0.j -2.31855296e-02+0.j]\n",
      " [ 6.11987256e-02+0.j -8.72765669e-03+0.j]\n",
      " [ 9.10879746e-02+0.j  3.99794453e-02+0.j]\n",
      " [ 8.30744822e-02+0.j  9.45849999e-02+0.j]\n",
      " [ 1.00249184e-01+0.j  9.98038811e-02+0.j]\n",
      " [ 6.56117201e-02+0.j  2.58138426e-02+0.j]\n",
      " [-2.19918848e-02+0.j -2.70921868e-02+0.j]\n",
      " [-5.69920995e-02+0.j -1.07020881e-01+0.j]\n",
      " [-2.68711449e-02+0.j -1.34244772e-01+0.j]\n",
      " [ 6.37021499e-03+0.j -1.23141206e-01+0.j]\n",
      " [ 2.16024385e-02+0.j -1.15931893e-01+0.j]\n",
      " [ 2.53306368e-02+0.j -1.03510340e-01+0.j]\n",
      " [ 5.18437096e-03+0.j -7.43787077e-02+0.j]\n",
      " [-1.13497146e-02+0.j -5.11930016e-02+0.j]\n",
      " [ 1.56867391e-03+0.j -3.82132518e-02+0.j]\n",
      " [ 3.18264232e-02+0.j -4.37130578e-02+0.j]\n",
      " [ 8.13006983e-02+0.j -6.32483726e-02+0.j]\n",
      " [ 1.15621232e-01+0.j -4.22262850e-02+0.j]\n",
      " [ 6.27035432e-02+0.j  3.51687665e-03+0.j]\n",
      " [-8.53585152e-03+0.j  3.61810834e-02+0.j]\n",
      " [ 5.65960014e-02+0.j  9.61741265e-02+0.j]\n",
      " [ 8.60851771e-02+0.j  3.96822732e-02+0.j]\n",
      " [-3.17180786e-02+0.j -4.42079348e-02+0.j]\n",
      " [-7.71997442e-02+0.j -1.41606918e-01+0.j]\n",
      " [-2.34032980e-02+0.j -1.26536198e-01+0.j]\n",
      " [ 1.78888806e-02+0.j -8.07986417e-02+0.j]\n",
      " [ 3.34184858e-02+0.j -7.05124162e-02+0.j]\n",
      " [ 3.40464517e-02+0.j -9.51147414e-02+0.j]\n",
      " [ 1.18229199e-02+0.j -1.09983491e-01+0.j]\n",
      " [-7.01037748e-03+0.j -7.83018477e-02+0.j]\n",
      " [ 2.02542941e-02+0.j -6.51844051e-02+0.j]\n",
      " [ 7.90679955e-02+0.j -7.23320928e-02+0.j]\n",
      " [ 1.19774756e-01+0.j -6.95398296e-02+0.j]\n",
      " [ 8.45180530e-02+0.j -4.59185929e-02+0.j]\n",
      " [ 1.35694432e-03+0.j -2.69370895e-02+0.j]\n",
      " [-4.29968502e-02+0.j -1.04873230e-02+0.j]\n",
      " [ 2.53182577e-02+0.j  8.06618221e-02+0.j]\n",
      " [ 6.55534779e-02+0.j  5.75393671e-02+0.j]\n",
      " [-3.63242677e-02+0.j -6.34730366e-02+0.j]\n",
      " [-7.84726704e-02+0.j -1.54183398e-01+0.j]\n",
      " [-1.66823561e-02+0.j -9.49060771e-02+0.j]\n",
      " [ 3.40054662e-02+0.j -3.47826721e-02+0.j]\n",
      " [ 4.92876655e-02+0.j -2.75822430e-02+0.j]\n",
      " [ 4.77041128e-02+0.j -7.03126026e-02+0.j]\n",
      " [ 1.91381397e-02+0.j -1.17926640e-01+0.j]\n",
      " [ 6.25453752e-03+0.j -1.00767179e-01+0.j]\n",
      " [ 5.91467669e-02+0.j -9.22885686e-02+0.j]\n",
      " [ 1.14178013e-01+0.j -8.58504001e-02+0.j]\n",
      " [ 1.12910137e-01+0.j -5.37040528e-02+0.j]\n",
      " [ 5.32564821e-02+0.j -4.31800551e-02+0.j]\n",
      " [ 6.47635376e-03+0.j -5.37405729e-02+0.j]\n",
      " [-6.95751478e-03+0.j -4.38426724e-02+0.j]\n",
      " [ 6.52629129e-03+0.j  4.98734320e-02+0.j]\n",
      " [ 1.58074290e-02+0.j  5.88161123e-02+0.j]\n",
      " [-4.03049439e-02+0.j -7.59319416e-02+0.j]\n",
      " [-8.09090198e-02+0.j -1.42968417e-01+0.j]\n",
      " [-3.12943402e-03+0.j -5.92116149e-02+0.j]\n",
      " [ 5.91113761e-02+0.j -3.29980839e-03+0.j]\n",
      " [ 6.88204209e-02+0.j  3.25964901e-03+0.j]\n",
      " [ 5.14263678e-02+0.j -3.60513571e-02+0.j]\n",
      " [ 1.26630781e-02+0.j -1.00148693e-01+0.j]\n",
      " [ 2.71281279e-02+0.j -1.04513990e-01+0.j]\n",
      " [ 9.59085720e-02+0.j -9.48864048e-02+0.j]\n",
      " [ 1.28658676e-01+0.j -7.19103847e-02+0.j]\n",
      " [ 8.88475029e-02+0.j -3.91138999e-02+0.j]\n",
      " [ 5.33788346e-02+0.j -3.53188025e-02+0.j]\n",
      " [ 3.63612566e-02+0.j -6.46133819e-02+0.j]\n",
      " [ 3.09587269e-02+0.j -5.56419212e-02+0.j]\n",
      " [-2.29356836e-02+0.j  2.57654696e-02+0.j]\n",
      " [-3.66734770e-02+0.j  5.00241025e-02+0.j]\n",
      " [-4.17126162e-02+0.j -7.63466146e-02+0.j]\n",
      " [-8.40242769e-02+0.j -1.18816297e-01+0.j]\n",
      " [ 1.32549271e-02+0.j -2.00940325e-02+0.j]\n",
      " [ 6.82214333e-02+0.j  1.99796267e-02+0.j]\n",
      " [ 6.42374022e-02+0.j  7.82971134e-03+0.j]\n",
      " [ 3.30760029e-02+0.j -2.50750653e-02+0.j]\n",
      " [ 1.81154218e-04+0.j -7.30654897e-02+0.j]\n",
      " [ 3.50254501e-02+0.j -7.98437918e-02+0.j]\n",
      " [ 1.13328409e-01+0.j -6.88986676e-02+0.j]\n",
      " [ 1.31774120e-01+0.j -6.32070314e-02+0.j]\n",
      " [ 9.17551152e-02+0.j -4.19591492e-02+0.j]\n",
      " [ 6.82429018e-02+0.j -3.87665800e-02+0.j]\n",
      " [ 6.62826128e-02+0.j -4.59258213e-02+0.j]\n",
      " [ 4.93452397e-02+0.j -4.00666824e-02+0.j]\n",
      " [-7.11908232e-02+0.j  2.71663127e-02+0.j]\n",
      " [-7.63569045e-02+0.j  2.94695747e-02+0.j]\n",
      " [-4.08292164e-02+0.j -6.22240361e-02+0.j]\n",
      " [-7.70829413e-02+0.j -8.43676989e-02+0.j]\n",
      " [ 2.09223808e-02+0.j -5.14247649e-03+0.j]\n",
      " [ 4.87878388e-02+0.j  1.89887433e-02+0.j]\n",
      " [ 3.27126194e-02+0.j -9.78264509e-03+0.j]\n",
      " [-9.79326316e-03+0.j -3.20453741e-02+0.j]\n",
      " [-1.61146764e-02+0.j -5.01833121e-02+0.j]\n",
      " [ 1.92794502e-02+0.j -3.53387351e-02+0.j]\n",
      " [ 8.93428686e-02+0.j -4.62042506e-02+0.j]\n",
      " [ 1.12099601e-01+0.j -6.20680679e-02+0.j]\n",
      " [ 9.71610385e-02+0.j -5.67429395e-02+0.j]\n",
      " [ 8.49674993e-02+0.j -3.36059694e-02+0.j]\n",
      " [ 7.91663622e-02+0.j -1.99862089e-02+0.j]\n",
      " [ 3.80343617e-02+0.j  5.95852272e-03+0.j]\n",
      " [-1.19430099e-01+0.j  2.80025804e-02+0.j]\n",
      " [-9.51644835e-02+0.j  1.89453767e-03+0.j]\n",
      " [-3.70386563e-02+0.j -2.84731052e-02+0.j]\n",
      " [-5.96705607e-02+0.j -2.99844946e-02+0.j]\n",
      " [ 1.86745265e-02+0.j -1.38892873e-02+0.j]\n",
      " [ 2.11194846e-02+0.j -2.09383935e-03+0.j]\n",
      " [-3.11013291e-03+0.j -4.33374323e-02+0.j]\n",
      " [-4.54634697e-02+0.j -4.71744898e-02+0.j]\n",
      " [-2.53865196e-02+0.j -1.44317556e-02+0.j]\n",
      " [ 3.49048682e-03+0.j  3.57528673e-04+0.j]\n",
      " [ 4.55139451e-02+0.j -2.74099806e-02+0.j]\n",
      " [ 6.83222219e-02+0.j -5.97610975e-02+0.j]\n",
      " [ 7.20406702e-02+0.j -6.70116337e-02+0.j]\n",
      " [ 7.47439099e-02+0.j -3.74607257e-02+0.j]\n",
      " [ 6.49248078e-02+0.j -4.27037976e-03+0.j]\n",
      " [-8.88563119e-04+0.j  4.61809340e-02+0.j]\n",
      " [-1.56496652e-01+0.j  2.44517063e-02+0.j]\n",
      " [-9.18511196e-02+0.j -2.73248093e-02+0.j]\n",
      " [-1.90593581e-02+0.j  1.78823258e-02+0.j]\n",
      " [-3.76890975e-02+0.j  3.83593970e-02+0.j]\n",
      " [-8.11794058e-04+0.j -1.30739328e-02+0.j]\n",
      " [-6.35752261e-03+0.j -4.66661170e-02+0.j]\n",
      " [-2.91611942e-02+0.j -7.67478154e-02+0.j]\n",
      " [-3.48010257e-02+0.j -4.92693742e-02+0.j]\n",
      " [-2.08933762e-02+0.j  2.30207134e-02+0.j]\n",
      " [-3.30566655e-02+0.j  4.21939798e-02+0.j]\n",
      " [-1.47283427e-02+0.j -6.15693041e-03+0.j]\n",
      " [ 1.81387848e-02+0.j -3.34882107e-02+0.j]\n",
      " [ 4.93341597e-02+0.j -4.35904415e-02+0.j]\n",
      " [ 5.92457373e-02+0.j -2.33673577e-02+0.j]\n",
      " [ 4.06182938e-02+0.j  2.94498910e-02+0.j]\n",
      " [-5.21886887e-02+0.j  8.42994313e-02+0.j]\n",
      " [-1.74595804e-01+0.j  1.14666479e-03+0.j]\n",
      " [-7.56522916e-02+0.j -5.29820052e-02+0.j]\n",
      " [-1.98485126e-03+0.j  5.33033995e-02+0.j]\n",
      " [-1.80318707e-02+0.j  9.37496535e-02+0.j]\n",
      " [-3.38013716e-02+0.j -1.24864732e-02+0.j]\n",
      " [-3.52656161e-02+0.j -7.37689019e-02+0.j]\n",
      " [-3.46273272e-02+0.j -6.98893780e-02+0.j]\n",
      " [-4.59951797e-03+0.j -1.17928074e-02+0.j]\n",
      " [-1.95524539e-02+0.j  6.89402947e-02+0.j]\n",
      " [-6.33416729e-02+0.j  8.17221898e-02+0.j]\n",
      " [-6.28239798e-02+0.j  2.89512411e-02+0.j]\n",
      " [-2.03888734e-02+0.j  6.29149986e-03+0.j]\n",
      " [ 1.23206892e-02+0.j  1.63959734e-02+0.j]\n",
      " [ 1.89672552e-02+0.j  4.28234517e-02+0.j]\n",
      " [-9.89639397e-03+0.j  8.26407479e-02+0.j]\n",
      " [-1.03613592e-01+0.j  8.63883913e-02+0.j]\n",
      " [-1.70987167e-01+0.j -4.17850968e-02+0.j]\n",
      " [-5.49256335e-02+0.j -5.27546554e-02+0.j]\n",
      " [ 2.07346804e-02+0.j  7.50047692e-02+0.j]\n",
      " [ 7.56748207e-03+0.j  1.37677132e-01+0.j]\n",
      " [-3.29619217e-02+0.j -2.95429445e-04+0.j]\n",
      " [-4.44318457e-02+0.j -6.08496821e-02+0.j]\n",
      " [-1.46982589e-02+0.j -3.59689024e-02+0.j]\n",
      " [ 1.92813789e-02+0.j  5.26395845e-02+0.j]\n",
      " [-2.49567018e-02+0.j  8.52577315e-02+0.j]\n",
      " [-9.18138637e-02+0.j  6.99025110e-02+0.j]\n",
      " [-1.02621830e-01+0.j  4.59294023e-02+0.j]\n",
      " [-6.07131661e-02+0.j  4.34048152e-02+0.j]\n",
      " [-2.42309268e-02+0.j  5.82831182e-02+0.j]\n",
      " [-2.59412971e-02+0.j  8.97049224e-02+0.j]\n",
      " [-6.40791826e-02+0.j  1.00721839e-01+0.j]\n",
      " [-1.38987111e-01+0.j  3.75726172e-02+0.j]\n",
      " [-1.47714316e-01+0.j -7.02786753e-02+0.j]\n",
      " [-3.64159667e-02+0.j -3.89915713e-02+0.j]\n",
      " [ 3.45872704e-02+0.j  8.66381623e-02+0.j]\n",
      " [ 2.50951617e-02+0.j  1.52029535e-01+0.j]\n",
      " [-2.27855704e-02+0.j  2.17823740e-02+0.j]\n",
      " [-2.54503677e-02+0.j -1.16781458e-02+0.j]\n",
      " [ 1.76425047e-02+0.j  3.93130074e-02+0.j]\n",
      " [ 2.82285842e-02+0.j  9.44649325e-02+0.j]\n",
      " [-3.65019133e-02+0.j  7.39168930e-02+0.j]\n",
      " [-9.34754752e-02+0.j  4.66131654e-02+0.j]\n",
      " [-1.21309596e-01+0.j  2.20640795e-02+0.j]\n",
      " [-1.08315475e-01+0.j  2.98495524e-02+0.j]\n",
      " [-8.08313175e-02+0.j  4.96458932e-02+0.j]\n",
      " [-7.76277931e-02+0.j  7.55079941e-02+0.j]\n",
      " [-1.13727100e-01+0.j  5.88756414e-02+0.j]\n",
      " [-1.50991133e-01+0.j -2.24181679e-02+0.j]\n",
      " [-1.05709121e-01+0.j -7.71648263e-02+0.j]\n",
      " [-1.98393761e-02+0.j -2.62118395e-02+0.j]\n",
      " [ 4.00114615e-02+0.j  7.67766008e-02+0.j]\n",
      " [ 3.67865078e-02+0.j  1.59201467e-01+0.j]\n",
      " [-2.58530488e-03+0.j  9.36896442e-02+0.j]\n",
      " [ 8.47052396e-03+0.j  9.56366250e-02+0.j]\n",
      " [ 3.63374346e-02+0.j  1.11156217e-01+0.j]\n",
      " [ 9.85776365e-03+0.j  7.05303619e-02+0.j]\n",
      " [-3.38373047e-02+0.j  3.75552261e-02+0.j]\n",
      " [-6.86231661e-02+0.j  3.03691214e-02+0.j]\n",
      " [-1.17533920e-01+0.j  2.98384151e-02+0.j]\n",
      " [-1.50722420e-01+0.j  1.51511520e-02+0.j]\n",
      " [-1.49863369e-01+0.j  1.62409827e-02+0.j]\n",
      " [-1.41841371e-01+0.j  1.43900317e-02+0.j]\n",
      " [-1.48105012e-01+0.j -2.22569541e-02+0.j]\n",
      " [-1.29601699e-01+0.j -7.09341033e-02+0.j]\n",
      " [-5.72207483e-02+0.j -5.88009577e-02+0.j]\n",
      " [-7.84775860e-03+0.j -1.26718248e-02+0.j]\n",
      " [ 3.47012365e-02+0.j  4.27517137e-02+0.j]\n",
      " [ 5.46802932e-02+0.j  1.44679106e-01+0.j]\n",
      " [ 3.57757533e-02+0.j  1.70548866e-01+0.j]\n",
      " [ 2.81821941e-02+0.j  1.61771662e-01+0.j]\n",
      " [ 2.24072819e-02+0.j  8.82818713e-02+0.j]\n",
      " [ 2.60628827e-03+0.j  1.08489390e-02+0.j]\n",
      " [-8.68816030e-03+0.j  7.52975442e-03+0.j]\n",
      " [-2.87489525e-02+0.j  2.10931573e-02+0.j]\n",
      " [-7.57800135e-02+0.j  2.39478943e-02+0.j]\n",
      " [-1.28769776e-01+0.j  1.30745281e-02+0.j]\n",
      " [-1.63903723e-01+0.j -2.74854507e-02+0.j]\n",
      " [-1.64040464e-01+0.j -5.78274350e-02+0.j]\n",
      " [-1.34240643e-01+0.j -8.24537184e-02+0.j]\n",
      " [-7.59772877e-02+0.j -6.87998977e-02+0.j]\n",
      " [-2.20010711e-02+0.j -2.98207119e-02+0.j]\n",
      " [-1.40526062e-03+0.j -2.57062931e-03+0.j]\n",
      " [ 1.94401858e-02+0.j  2.98710606e-03+0.j]\n",
      " [ 3.98102612e-02+0.j  4.57465280e-02+0.j]\n",
      " [ 2.77953156e-02+0.j  9.15050597e-02+0.j]\n",
      " [ 2.08881871e-02+0.j  6.49245801e-02+0.j]\n",
      " [ 6.89329229e-03+0.j  1.31163532e-02+0.j]\n",
      " [ 4.87352214e-03+0.j -7.46620796e-03+0.j]\n",
      " [ 2.41404855e-03+0.j  2.34975668e-03+0.j]\n",
      " [-3.91080466e-03+0.j  5.73207056e-03+0.j]\n",
      " [-1.54935553e-02+0.j  3.70652850e-03+0.j]\n",
      " [-3.26903209e-02+0.j  1.56569908e-03+0.j]\n",
      " [-5.33461985e-02+0.j -1.65865003e-02+0.j]\n",
      " [-6.17880206e-02+0.j -3.62837100e-02+0.j]\n",
      " [-4.33515427e-02+0.j -4.00255474e-02+0.j]\n",
      " [-1.71311621e-02+0.j -2.12457731e-02+0.j]\n",
      " [-2.96496215e-03+0.j -5.28373364e-03+0.j]\n",
      " [-4.83431638e-06+0.j -6.57007390e-06+0.j]]\n"
     ]
    }
   ],
   "source": [
    "## verify with scipy library\n",
    "\n",
    "from scipy.sparse.linalg import eigs\n",
    "\n",
    "vals, vecs = eigs(S, k=2)\n",
    "print(vecs)"
   ]
  },
  {
   "cell_type": "code",
   "execution_count": 41,
   "metadata": {},
   "outputs": [
    {
     "name": "stdout",
     "output_type": "stream",
     "text": [
      "Two largest Eigen values: [237155.24629049 145188.35268683]\n",
      "eigen vectors\n",
      "[[ 3.11188937e-03  3.49231480e-03]\n",
      " [ 1.58516918e-02  2.13942135e-02]\n",
      " [ 1.02047355e-02  3.26156578e-02]\n",
      " [ 6.12802671e-03  4.08487996e-02]\n",
      " [ 2.53937630e-03  4.15826320e-02]\n",
      " [-3.48100079e-03  2.32118241e-02]\n",
      " [-1.42336798e-03  8.98179593e-03]\n",
      " [ 1.79709643e-03  3.88043482e-03]\n",
      " [ 1.34576221e-03  7.56606030e-04]\n",
      " [ 1.51868462e-03  1.00796395e-03]\n",
      " [ 1.24117951e-03 -4.19975495e-03]\n",
      " [-2.46951670e-03 -7.01315077e-03]\n",
      " [-2.26069694e-02 -2.86004474e-02]\n",
      " [-5.64780696e-02 -5.35489039e-02]\n",
      " [-6.10269004e-02 -4.24279927e-02]\n",
      " [-1.42285576e-02 -7.23344445e-03]\n",
      " [ 1.28177726e-02  1.72291681e-02]\n",
      " [ 3.54055819e-02  6.71256403e-02]\n",
      " [ 2.86076423e-02  1.05345044e-01]\n",
      " [ 5.28890851e-03  1.26389433e-01]\n",
      " [-3.34275441e-03  1.16472076e-01]\n",
      " [-7.57809428e-03  7.40921734e-02]\n",
      " [-4.64506415e-03  3.93648475e-02]\n",
      " [ 4.41045700e-03  2.22991020e-02]\n",
      " [ 3.43418790e-03  1.12334206e-02]\n",
      " [-2.89256319e-03  1.74181981e-02]\n",
      " [-1.97104135e-02  2.31855296e-02]\n",
      " [-6.11987256e-02  8.72765669e-03]\n",
      " [-9.10879746e-02 -3.99794453e-02]\n",
      " [-8.30744822e-02 -9.45849999e-02]\n",
      " [-1.00249184e-01 -9.98038811e-02]\n",
      " [-6.56117201e-02 -2.58138426e-02]\n",
      " [ 2.19918848e-02  2.70921868e-02]\n",
      " [ 5.69920995e-02  1.07020881e-01]\n",
      " [ 2.68711449e-02  1.34244772e-01]\n",
      " [-6.37021499e-03  1.23141206e-01]\n",
      " [-2.16024385e-02  1.15931893e-01]\n",
      " [-2.53306368e-02  1.03510340e-01]\n",
      " [-5.18437096e-03  7.43787077e-02]\n",
      " [ 1.13497146e-02  5.11930016e-02]\n",
      " [-1.56867391e-03  3.82132518e-02]\n",
      " [-3.18264232e-02  4.37130578e-02]\n",
      " [-8.13006983e-02  6.32483726e-02]\n",
      " [-1.15621232e-01  4.22262850e-02]\n",
      " [-6.27035432e-02 -3.51687665e-03]\n",
      " [ 8.53585152e-03 -3.61810834e-02]\n",
      " [-5.65960014e-02 -9.61741265e-02]\n",
      " [-8.60851771e-02 -3.96822732e-02]\n",
      " [ 3.17180786e-02  4.42079348e-02]\n",
      " [ 7.71997442e-02  1.41606918e-01]\n",
      " [ 2.34032980e-02  1.26536198e-01]\n",
      " [-1.78888806e-02  8.07986417e-02]\n",
      " [-3.34184858e-02  7.05124162e-02]\n",
      " [-3.40464517e-02  9.51147414e-02]\n",
      " [-1.18229199e-02  1.09983491e-01]\n",
      " [ 7.01037748e-03  7.83018477e-02]\n",
      " [-2.02542941e-02  6.51844051e-02]\n",
      " [-7.90679955e-02  7.23320928e-02]\n",
      " [-1.19774756e-01  6.95398296e-02]\n",
      " [-8.45180530e-02  4.59185929e-02]\n",
      " [-1.35694432e-03  2.69370895e-02]\n",
      " [ 4.29968502e-02  1.04873230e-02]\n",
      " [-2.53182577e-02 -8.06618221e-02]\n",
      " [-6.55534779e-02 -5.75393671e-02]\n",
      " [ 3.63242677e-02  6.34730366e-02]\n",
      " [ 7.84726704e-02  1.54183398e-01]\n",
      " [ 1.66823561e-02  9.49060771e-02]\n",
      " [-3.40054662e-02  3.47826721e-02]\n",
      " [-4.92876655e-02  2.75822430e-02]\n",
      " [-4.77041128e-02  7.03126026e-02]\n",
      " [-1.91381397e-02  1.17926640e-01]\n",
      " [-6.25453752e-03  1.00767179e-01]\n",
      " [-5.91467669e-02  9.22885686e-02]\n",
      " [-1.14178013e-01  8.58504001e-02]\n",
      " [-1.12910137e-01  5.37040528e-02]\n",
      " [-5.32564821e-02  4.31800551e-02]\n",
      " [-6.47635376e-03  5.37405729e-02]\n",
      " [ 6.95751478e-03  4.38426724e-02]\n",
      " [-6.52629129e-03 -4.98734320e-02]\n",
      " [-1.58074290e-02 -5.88161123e-02]\n",
      " [ 4.03049439e-02  7.59319416e-02]\n",
      " [ 8.09090198e-02  1.42968417e-01]\n",
      " [ 3.12943402e-03  5.92116149e-02]\n",
      " [-5.91113761e-02  3.29980839e-03]\n",
      " [-6.88204209e-02 -3.25964901e-03]\n",
      " [-5.14263678e-02  3.60513571e-02]\n",
      " [-1.26630781e-02  1.00148693e-01]\n",
      " [-2.71281279e-02  1.04513990e-01]\n",
      " [-9.59085720e-02  9.48864048e-02]\n",
      " [-1.28658676e-01  7.19103847e-02]\n",
      " [-8.88475029e-02  3.91138999e-02]\n",
      " [-5.33788346e-02  3.53188025e-02]\n",
      " [-3.63612566e-02  6.46133819e-02]\n",
      " [-3.09587269e-02  5.56419212e-02]\n",
      " [ 2.29356836e-02 -2.57654696e-02]\n",
      " [ 3.66734770e-02 -5.00241025e-02]\n",
      " [ 4.17126162e-02  7.63466146e-02]\n",
      " [ 8.40242769e-02  1.18816297e-01]\n",
      " [-1.32549271e-02  2.00940325e-02]\n",
      " [-6.82214333e-02 -1.99796267e-02]\n",
      " [-6.42374022e-02 -7.82971134e-03]\n",
      " [-3.30760029e-02  2.50750653e-02]\n",
      " [-1.81154218e-04  7.30654897e-02]\n",
      " [-3.50254501e-02  7.98437918e-02]\n",
      " [-1.13328409e-01  6.88986676e-02]\n",
      " [-1.31774120e-01  6.32070314e-02]\n",
      " [-9.17551152e-02  4.19591492e-02]\n",
      " [-6.82429018e-02  3.87665800e-02]\n",
      " [-6.62826128e-02  4.59258213e-02]\n",
      " [-4.93452397e-02  4.00666824e-02]\n",
      " [ 7.11908232e-02 -2.71663127e-02]\n",
      " [ 7.63569045e-02 -2.94695747e-02]\n",
      " [ 4.08292164e-02  6.22240361e-02]\n",
      " [ 7.70829413e-02  8.43676989e-02]\n",
      " [-2.09223808e-02  5.14247649e-03]\n",
      " [-4.87878388e-02 -1.89887433e-02]\n",
      " [-3.27126194e-02  9.78264509e-03]\n",
      " [ 9.79326316e-03  3.20453741e-02]\n",
      " [ 1.61146764e-02  5.01833121e-02]\n",
      " [-1.92794502e-02  3.53387351e-02]\n",
      " [-8.93428686e-02  4.62042506e-02]\n",
      " [-1.12099601e-01  6.20680679e-02]\n",
      " [-9.71610385e-02  5.67429395e-02]\n",
      " [-8.49674993e-02  3.36059694e-02]\n",
      " [-7.91663622e-02  1.99862089e-02]\n",
      " [-3.80343617e-02 -5.95852272e-03]\n",
      " [ 1.19430099e-01 -2.80025804e-02]\n",
      " [ 9.51644835e-02 -1.89453767e-03]\n",
      " [ 3.70386563e-02  2.84731052e-02]\n",
      " [ 5.96705607e-02  2.99844946e-02]\n",
      " [-1.86745265e-02  1.38892873e-02]\n",
      " [-2.11194846e-02  2.09383935e-03]\n",
      " [ 3.11013291e-03  4.33374323e-02]\n",
      " [ 4.54634697e-02  4.71744898e-02]\n",
      " [ 2.53865196e-02  1.44317556e-02]\n",
      " [-3.49048682e-03 -3.57528673e-04]\n",
      " [-4.55139451e-02  2.74099806e-02]\n",
      " [-6.83222219e-02  5.97610975e-02]\n",
      " [-7.20406702e-02  6.70116337e-02]\n",
      " [-7.47439099e-02  3.74607257e-02]\n",
      " [-6.49248078e-02  4.27037976e-03]\n",
      " [ 8.88563119e-04 -4.61809340e-02]\n",
      " [ 1.56496652e-01 -2.44517063e-02]\n",
      " [ 9.18511196e-02  2.73248093e-02]\n",
      " [ 1.90593581e-02 -1.78823258e-02]\n",
      " [ 3.76890975e-02 -3.83593970e-02]\n",
      " [ 8.11794058e-04  1.30739328e-02]\n",
      " [ 6.35752261e-03  4.66661170e-02]\n",
      " [ 2.91611942e-02  7.67478154e-02]\n",
      " [ 3.48010257e-02  4.92693742e-02]\n",
      " [ 2.08933762e-02 -2.30207134e-02]\n",
      " [ 3.30566655e-02 -4.21939798e-02]\n",
      " [ 1.47283427e-02  6.15693041e-03]\n",
      " [-1.81387848e-02  3.34882107e-02]\n",
      " [-4.93341597e-02  4.35904415e-02]\n",
      " [-5.92457373e-02  2.33673577e-02]\n",
      " [-4.06182938e-02 -2.94498910e-02]\n",
      " [ 5.21886887e-02 -8.42994313e-02]\n",
      " [ 1.74595804e-01 -1.14666479e-03]\n",
      " [ 7.56522916e-02  5.29820052e-02]\n",
      " [ 1.98485126e-03 -5.33033995e-02]\n",
      " [ 1.80318707e-02 -9.37496535e-02]\n",
      " [ 3.38013716e-02  1.24864732e-02]\n",
      " [ 3.52656161e-02  7.37689019e-02]\n",
      " [ 3.46273272e-02  6.98893780e-02]\n",
      " [ 4.59951797e-03  1.17928074e-02]\n",
      " [ 1.95524539e-02 -6.89402947e-02]\n",
      " [ 6.33416729e-02 -8.17221898e-02]\n",
      " [ 6.28239798e-02 -2.89512411e-02]\n",
      " [ 2.03888734e-02 -6.29149986e-03]\n",
      " [-1.23206892e-02 -1.63959734e-02]\n",
      " [-1.89672552e-02 -4.28234517e-02]\n",
      " [ 9.89639397e-03 -8.26407479e-02]\n",
      " [ 1.03613592e-01 -8.63883913e-02]\n",
      " [ 1.70987167e-01  4.17850968e-02]\n",
      " [ 5.49256335e-02  5.27546554e-02]\n",
      " [-2.07346804e-02 -7.50047692e-02]\n",
      " [-7.56748207e-03 -1.37677132e-01]\n",
      " [ 3.29619217e-02  2.95429445e-04]\n",
      " [ 4.44318457e-02  6.08496821e-02]\n",
      " [ 1.46982589e-02  3.59689024e-02]\n",
      " [-1.92813789e-02 -5.26395845e-02]\n",
      " [ 2.49567018e-02 -8.52577315e-02]\n",
      " [ 9.18138637e-02 -6.99025110e-02]\n",
      " [ 1.02621830e-01 -4.59294023e-02]\n",
      " [ 6.07131661e-02 -4.34048152e-02]\n",
      " [ 2.42309268e-02 -5.82831182e-02]\n",
      " [ 2.59412971e-02 -8.97049224e-02]\n",
      " [ 6.40791826e-02 -1.00721839e-01]\n",
      " [ 1.38987111e-01 -3.75726172e-02]\n",
      " [ 1.47714316e-01  7.02786753e-02]\n",
      " [ 3.64159667e-02  3.89915713e-02]\n",
      " [-3.45872704e-02 -8.66381623e-02]\n",
      " [-2.50951617e-02 -1.52029535e-01]\n",
      " [ 2.27855704e-02 -2.17823740e-02]\n",
      " [ 2.54503677e-02  1.16781458e-02]\n",
      " [-1.76425047e-02 -3.93130074e-02]\n",
      " [-2.82285842e-02 -9.44649325e-02]\n",
      " [ 3.65019133e-02 -7.39168930e-02]\n",
      " [ 9.34754752e-02 -4.66131654e-02]\n",
      " [ 1.21309596e-01 -2.20640795e-02]\n",
      " [ 1.08315475e-01 -2.98495524e-02]\n",
      " [ 8.08313175e-02 -4.96458932e-02]\n",
      " [ 7.76277931e-02 -7.55079941e-02]\n",
      " [ 1.13727100e-01 -5.88756414e-02]\n",
      " [ 1.50991133e-01  2.24181679e-02]\n",
      " [ 1.05709121e-01  7.71648263e-02]\n",
      " [ 1.98393761e-02  2.62118395e-02]\n",
      " [-4.00114615e-02 -7.67766008e-02]\n",
      " [-3.67865078e-02 -1.59201467e-01]\n",
      " [ 2.58530488e-03 -9.36896442e-02]\n",
      " [-8.47052396e-03 -9.56366250e-02]\n",
      " [-3.63374346e-02 -1.11156217e-01]\n",
      " [-9.85776365e-03 -7.05303619e-02]\n",
      " [ 3.38373047e-02 -3.75552261e-02]\n",
      " [ 6.86231661e-02 -3.03691214e-02]\n",
      " [ 1.17533920e-01 -2.98384151e-02]\n",
      " [ 1.50722420e-01 -1.51511520e-02]\n",
      " [ 1.49863369e-01 -1.62409827e-02]\n",
      " [ 1.41841371e-01 -1.43900317e-02]\n",
      " [ 1.48105012e-01  2.22569541e-02]\n",
      " [ 1.29601699e-01  7.09341033e-02]\n",
      " [ 5.72207483e-02  5.88009577e-02]\n",
      " [ 7.84775860e-03  1.26718248e-02]\n",
      " [-3.47012365e-02 -4.27517137e-02]\n",
      " [-5.46802932e-02 -1.44679106e-01]\n",
      " [-3.57757533e-02 -1.70548866e-01]\n",
      " [-2.81821941e-02 -1.61771662e-01]\n",
      " [-2.24072819e-02 -8.82818713e-02]\n",
      " [-2.60628827e-03 -1.08489390e-02]\n",
      " [ 8.68816030e-03 -7.52975442e-03]\n",
      " [ 2.87489525e-02 -2.10931573e-02]\n",
      " [ 7.57800135e-02 -2.39478943e-02]\n",
      " [ 1.28769776e-01 -1.30745281e-02]\n",
      " [ 1.63903723e-01  2.74854507e-02]\n",
      " [ 1.64040464e-01  5.78274350e-02]\n",
      " [ 1.34240643e-01  8.24537184e-02]\n",
      " [ 7.59772877e-02  6.87998977e-02]\n",
      " [ 2.20010711e-02  2.98207119e-02]\n",
      " [ 1.40526062e-03  2.57062931e-03]\n",
      " [-1.94401858e-02 -2.98710606e-03]\n",
      " [-3.98102612e-02 -4.57465280e-02]\n",
      " [-2.77953156e-02 -9.15050597e-02]\n",
      " [-2.08881871e-02 -6.49245801e-02]\n",
      " [-6.89329229e-03 -1.31163532e-02]\n",
      " [-4.87352214e-03  7.46620796e-03]\n",
      " [-2.41404855e-03 -2.34975668e-03]\n",
      " [ 3.91080466e-03 -5.73207056e-03]\n",
      " [ 1.54935553e-02 -3.70652850e-03]\n",
      " [ 3.26903209e-02 -1.56569908e-03]\n",
      " [ 5.33461985e-02  1.65865003e-02]\n",
      " [ 6.17880206e-02  3.62837100e-02]\n",
      " [ 4.33515427e-02  4.00255474e-02]\n",
      " [ 1.71311621e-02  2.12457731e-02]\n",
      " [ 2.96496215e-03  5.28373364e-03]\n",
      " [ 4.83431638e-06  6.57007390e-06]]\n"
     ]
    }
   ],
   "source": [
    "#Increasing order of eigen values\n",
    "\n",
    "idx = eig_values.argsort()[::-1]   \n",
    "eig_values = eig_values[idx]\n",
    "eig_vectors = eig_vectors[:,idx]\n",
    "print('Two largest Eigen values:',eig_values[0:2])\n",
    "print('eigen vectors')\n",
    "print(eig_vectors[:,0:2])\n"
   ]
  },
  {
   "cell_type": "markdown",
   "metadata": {},
   "source": [
    "### Different normalised strategies"
   ]
  },
  {
   "cell_type": "code",
   "execution_count": 53,
   "metadata": {},
   "outputs": [
    {
     "name": "stdout",
     "output_type": "stream",
     "text": [
      "1.0\n",
      "Image corresponding to v_ 1\n"
     ]
    },
    {
     "data": {
      "image/png": "[encoded data removed]",
      "text/plain": [
       "<Figure size 432x288 with 2 Axes>"
      ]
     },
     "metadata": {
      "needs_background": "light"
     },
     "output_type": "display_data"
    },
    {
     "name": "stdout",
     "output_type": "stream",
     "text": [
      "1.0\n",
      "Image corresponding to v_ 2\n"
     ]
    },
    {
     "data": {
      "image/png": "[encoded data removed]",
      "text/plain": [
       "<Figure size 432x288 with 2 Axes>"
      ]
     },
     "metadata": {
      "needs_background": "light"
     },
     "output_type": "display_data"
    }
   ],
   "source": [
    "for i in range(eig_vectors[:,0:2].shape[1]):\n",
    "    print(np.linalg.norm(eig_vectors[:,i]))\n",
    "    eigV=eig_vectors[:,i]\n",
    "    scaled=np.interp(eigV,(eigV.min(),eigV.max()),(0,255))\n",
    "    #print(scaled)\n",
    "    plt.imshow(np.transpose(scaled.reshape((16,16))), interpolation='nearest',cmap=\"gray\",vmin=0,vmax=255)\n",
    "    plt.colorbar()\n",
    "    print('Image corresponding to v_',i+1)\n",
    "    plt.show()\n"
   ]
  },
  {
   "cell_type": "code",
   "execution_count": 33,
   "metadata": {},
   "outputs": [
    {
     "name": "stdout",
     "output_type": "stream",
     "text": [
      "Norm of vector 1.0\n",
      "Image corresponding to v_ 1\n"
     ]
    },
    {
     "data": {
      "image/png": "[encoded data removed]",
      "text/plain": [
       "<Figure size 432x288 with 1 Axes>"
      ]
     },
     "metadata": {
      "needs_background": "light"
     },
     "output_type": "display_data"
    },
    {
     "name": "stdout",
     "output_type": "stream",
     "text": [
      "Norm of vector 1.0\n",
      "Image corresponding to v_ 2\n"
     ]
    },
    {
     "data": {
      "image/png": "[encoded data removed]",
      "text/plain": [
       "<Figure size 432x288 with 1 Axes>"
      ]
     },
     "metadata": {
      "needs_background": "light"
     },
     "output_type": "display_data"
    }
   ],
   "source": [
    "#alt original norm\n",
    "for i in range(eig_vectors[:,0:2].shape[1]):\n",
    "    #these vectors need to be orthogonal and unit length\n",
    "    print('Norm of vector',np.linalg.norm(eig_vectors[:,i]))\n",
    "    trns=(255*eig_vectors[:,i]+ mean_image).reshape((16,16))\n",
    "    #print(trns)\n",
    "    plt.imshow(np.transpose(trns), interpolation='nearest',cmap=\"gray\")\n",
    "    # plt.imshow(np.transpose(eig_values[0]*eig_vectors[:,i].reshape((16,16))), interpolation='nearest',cmap=\"gray\")\n",
    "    print('Image corresponding to v_',i+1)\n",
    "    plt.show()\n"
   ]
  },
  {
   "cell_type": "code",
   "execution_count": 34,
   "metadata": {},
   "outputs": [
    {
     "name": "stdout",
     "output_type": "stream",
     "text": [
      "dot product of 2 eigen vectors 6.29704621779581e-16\n"
     ]
    }
   ],
   "source": [
    "crossv=np.matmul(eig_vectors[:,0].T, eig_vectors[:,1])\n",
    "print('dot product of 2 eigen vectors',crossv)"
   ]
  },
  {
   "cell_type": "markdown",
   "metadata": {},
   "source": [
    "### 1Q5"
   ]
  },
  {
   "cell_type": "code",
   "execution_count": 47,
   "metadata": {},
   "outputs": [
    {
     "name": "stdout",
     "output_type": "stream",
     "text": [
      "(256, 2)\n",
      "(400, 256)\n",
      "projection.shape (400, 2)\n",
      "Two coordinates for:\n",
      "The first line in three.txt [ 136.20872784 -242.62848028]\n",
      "The first line in eight.txt [-312.68702792  649.57346086]\n"
     ]
    }
   ],
   "source": [
    "\n",
    "\n",
    "PCA_eigen_vectors= eig_vectors[:,0:2]\n",
    "print(PCA_eigen_vectors.shape)\n",
    "print(mean_centered_img.shape)\n",
    "projection= np.matmul(mean_centered_img,PCA_eigen_vectors)\n",
    "print('projection.shape',projection.shape)\n",
    "print('Two coordinates for:')\n",
    "print('The first line in three.txt',projection[0,:])\n",
    "print('The first line in eight.txt',projection[200,:])"
   ]
  },
  {
   "cell_type": "markdown",
   "metadata": {},
   "source": [
    "### 2D point cloud of all the digits after projection"
   ]
  },
  {
   "cell_type": "code",
   "execution_count": 55,
   "metadata": {},
   "outputs": [
    {
     "data": {
      "image/png": "[encoded data removed]",
      "text/plain": [
       "<Figure size 432x288 with 1 Axes>"
      ]
     },
     "metadata": {
      "needs_background": "light"
     },
     "output_type": "display_data"
    }
   ],
   "source": [
    "\n",
    "plt.plot(projection[0:200,0], projection[0:200,1], 'o', markersize=4, color='red',label='three.txt')\n",
    "plt.plot(projection[200:401,0], projection[200:401,1], 'o', markersize=4, color='blue',label='eight.txt')\n",
    "\n",
    "plt.xlabel('x_coordinate')\n",
    "plt.ylabel('y_coordinate')\n",
    "plt.legend()\n",
    "plt.title('2D point cloud of the 400 digits after projection')\n",
    "\n",
    "plt.show()"
   ]
  },
  {
   "cell_type": "markdown",
   "metadata": {},
   "source": [
    "### Verify PCA with sklearn library implementation\n"
   ]
  },
  {
   "cell_type": "code",
   "execution_count": 60,
   "metadata": {
    "scrolled": true
   },
   "outputs": [
    {
     "data": {
      "image/png": "[encoded data removed]",
      "text/plain": [
       "<Figure size 432x288 with 1 Axes>"
      ]
     },
     "metadata": {
      "needs_background": "light"
     },
     "output_type": "display_data"
    },
    {
     "data": {
      "image/png": "[encoded data removed]",
      "text/plain": [
       "<Figure size 432x288 with 1 Axes>"
      ]
     },
     "metadata": {
      "needs_background": "light"
     },
     "output_type": "display_data"
    }
   ],
   "source": [
    "\n",
    "\n",
    "plt.plot(projection[0:200,0], projection[0:200,1], 'o', markersize=4, color='red',label='three.txt')\n",
    "plt.plot(projection[200:401,0], projection[200:401,1], 'o', markersize=4, color='blue',label='eight.txt')\n",
    "\n",
    "plt.xlabel('x_coordinate')\n",
    "plt.ylabel('y_coordinate')\n",
    "plt.legend()\n",
    "plt.title('2D point cloud of the 400 digits after projection')\n",
    "\n",
    "plt.show()\n",
    "\n",
    "from sklearn.decomposition import PCA as sklearnPCA\n",
    "\n",
    "sklearn_pca = sklearnPCA(n_components=2)\n",
    "sklearn_transf = sklearn_pca.fit_transform(mean_centered_img)\n",
    "\n",
    "plt.plot(sklearn_transf[0:200,0],sklearn_transf[0:200,1], 'o', markersize=4, color='red', label='three.txt')\n",
    "plt.plot(sklearn_transf[200:401,0], sklearn_transf[200:401,1], 'o', markersize=4, color='blue', label='eight.txt')\n",
    "\n",
    "plt.xlabel('x_values')\n",
    "plt.ylabel('y_values')\n",
    "plt.legend()\n",
    "plt.title('Transformed samples with class labels from matplotlib.mlab.PCA()')\n",
    "\n",
    "plt.show()\n"
   ]
  }
 ],
 "metadata": {
  "kernelspec": {
   "display_name": "Python 3",
   "language": "python",
   "name": "python3"
  },
  "language_info": {
   "codemirror_mode": {
    "name": "ipython",
    "version": 3
   },
   "file_extension": ".py",
   "mimetype": "text/x-python",
   "name": "python",
   "nbconvert_exporter": "python",
   "pygments_lexer": "ipython3",
   "version": "3.7.3"
  }
 },
 "nbformat": 4,
 "nbformat_minor": 2
}
