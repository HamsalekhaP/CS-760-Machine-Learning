{
 "cells": [
  {
   "cell_type": "code",
   "execution_count": 1,
   "metadata": {},
   "outputs": [],
   "source": [
    "import numpy as np\n",
    "import math\n",
    "import matplotlib.pyplot as plt"
   ]
  },
  {
   "cell_type": "code",
   "execution_count": null,
   "metadata": {},
   "outputs": [],
   "source": [
    "X, y = [], []\n",
    "features=['x1','x2']\n",
    "with open('D2z.txt', 'r') as f:\n",
    "    for line in f:\n",
    "        line = line.strip()\n",
    "        if line:\n",
    "            values = line.split(' ')\n",
    "        else:\n",
    "            continue\n",
    "        #pick first 2\n",
    "        X.append([float(i) for i in values[:2]])\n",
    "        #pick last value in values\n",
    "        y.append(int(values[-1]))\n",
    "        \n",
    "X=np.array(X)\n",
    "y=np.array(y)\n",
    "print(len(X), len(y))\n",
    "#print(X)\n",
    "#print(y)"
   ]
  },
  {
   "cell_type": "code",
   "execution_count": 2,
   "metadata": {},
   "outputs": [],
   "source": [
    "from scipy.spatial import distance\n",
    "\n",
    "class nearestNeighbour():\n",
    "    def __init__(self):\n",
    "        self.testResult = np.empty((0,2))\n",
    "        self.reset()\n",
    "        \n",
    "    \n",
    "    def mahaDistance(self, inst1, inst2):\n",
    "        #print(inst1,inst2)\n",
    "        #dist= np.linalg.norm(inst1- inst2)\n",
    "        #print(dist)\n",
    "        dist= distance.euclidean(inst1, inst2)\n",
    "        return dist\n",
    "    \n",
    "    def reset(self):\n",
    "        self.nearestDist = float('inf')\n",
    "        self.nearestIndex = float('inf')\n",
    "        self.nearestLabel = float('inf')\n",
    "        \n",
    "\n",
    "    def getNeighbor(self, train_set, test_instance, labels):\n",
    "        for i in range(len(train_set)):\n",
    "            #print('in')\n",
    "            dist = self.mahaDistance(test_instance, train_set[i])\n",
    "            if(self.nearestDist>=dist):\n",
    "                #print('in')\n",
    "                #print('dist',dist)\n",
    "                #print('i',i)\n",
    "                #print('lab',labels[i])\n",
    "                self.nearestDist= dist\n",
    "                self.nearestIndex= i\n",
    "                #print(labels[i])\n",
    "                self.nearestLabel = labels[i]\n",
    "        self.testResult=np.append(self.testResult, np.array([[self.nearestIndex, self.nearestLabel]]), axis=0)\n",
    "\n",
    "    "
   ]
  },
  {
   "cell_type": "code",
   "execution_count": 3,
   "metadata": {},
   "outputs": [],
   "source": [
    "testSpace = np.empty((0,2))\n",
    "arr= np.arange(-2.0, 2.1, 0.1)\n",
    "for ind_i,x_coord in enumerate(arr):\n",
    "    for ind_j,y_coord in enumerate(arr):\n",
    "        testSpace=np.append(testSpace,np.array([[x_coord,y_coord]]), axis=0)\n",
    "\n",
    "#print(testSpace)\n"
   ]
  },
  {
   "cell_type": "code",
   "execution_count": 4,
   "metadata": {},
   "outputs": [
    {
     "ename": "NameError",
     "evalue": "name 'X' is not defined",
     "output_type": "error",
     "traceback": [
      "\u001b[1;31m---------------------------------------------------------------------------\u001b[0m",
      "\u001b[1;31mNameError\u001b[0m                                 Traceback (most recent call last)",
      "\u001b[1;32m<ipython-input-4-2d6b7b97f3db>\u001b[0m in \u001b[0;36m<module>\u001b[1;34m\u001b[0m\n\u001b[0;32m      5\u001b[0m     \u001b[1;31m#oneNN.nearestIndex = float('inf')\u001b[0m\u001b[1;33m\u001b[0m\u001b[1;33m\u001b[0m\u001b[1;33m\u001b[0m\u001b[0m\n\u001b[0;32m      6\u001b[0m     \u001b[1;31m#oneNN.nearestLabel = float('inf')\u001b[0m\u001b[1;33m\u001b[0m\u001b[1;33m\u001b[0m\u001b[1;33m\u001b[0m\u001b[0m\n\u001b[1;32m----> 7\u001b[1;33m     \u001b[0moneNN\u001b[0m\u001b[1;33m.\u001b[0m\u001b[0mgetNeighbor\u001b[0m\u001b[1;33m(\u001b[0m\u001b[0mX\u001b[0m\u001b[1;33m,\u001b[0m \u001b[0mitem\u001b[0m \u001b[1;33m,\u001b[0m\u001b[0my\u001b[0m\u001b[1;33m)\u001b[0m\u001b[1;33m\u001b[0m\u001b[1;33m\u001b[0m\u001b[0m\n\u001b[0m\u001b[0;32m      8\u001b[0m \u001b[1;31m#print(oneNN.testResult)\u001b[0m\u001b[1;33m\u001b[0m\u001b[1;33m\u001b[0m\u001b[1;33m\u001b[0m\u001b[0m\n",
      "\u001b[1;31mNameError\u001b[0m: name 'X' is not defined"
     ]
    }
   ],
   "source": [
    "oneNN = nearestNeighbour()\n",
    "for index, item in enumerate(testSpace):\n",
    "    oneNN.reset()\n",
    "    #oneNN.nearestDist = float('inf')\n",
    "    #oneNN.nearestIndex = float('inf')\n",
    "    #oneNN.nearestLabel = float('inf')\n",
    "    oneNN.getNeighbor(X, item ,y)    \n",
    "#print(oneNN.testResult)"
   ]
  },
  {
   "cell_type": "code",
   "execution_count": null,
   "metadata": {},
   "outputs": [],
   "source": [
    "plt.scatter(X[:,0],X[:,1], color=['c' if i==0 else 'r' for i in y])\n",
    "plt.scatter(testSpace[:,0],testSpace[:,1], color=['m' if i==0 else 'y' for i in oneNN.testResult[:,1]],marker='.') \n",
    "plt.title('D2z.txt')\n",
    "plt.show()\n"
   ]
  },
  {
   "cell_type": "code",
   "execution_count": 5,
   "metadata": {},
   "outputs": [
    {
     "name": "stdout",
     "output_type": "stream",
     "text": [
      "200 200\n"
     ]
    }
   ],
   "source": [
    "#D2a.txt\n",
    "Xa, ya = [], []\n",
    "features=['x1','x2','x3','x4','x5','x6']\n",
    "with open('D2a.txt', 'r') as f:\n",
    "    for line in f:\n",
    "        line = line.strip()\n",
    "        if line:\n",
    "            values = line.split(' ')\n",
    "        else:\n",
    "            continue\n",
    "        #pick first 2\n",
    "        Xa.append([float(i) for i in values[:6]])\n",
    "        #pick last value in values\n",
    "        ya.append(int(values[-1]))\n",
    "        \n",
    "Xa=np.array(Xa)\n",
    "ya=np.array(ya)\n",
    "print(len(Xa), len(ya))\n",
    "#print(Xa[-1])\n",
    "#print(ya.shape)"
   ]
  },
  {
   "cell_type": "code",
   "execution_count": null,
   "metadata": {},
   "outputs": [],
   "source": [
    "oneNND2a = nearestNeighbour()\n",
    "#random shuffle\n",
    "netCv=0\n",
    "for i in range(1):\n",
    "    oneNND2a.testResult = np.empty((0,2))\n",
    "    er=0\n",
    "    \n",
    "    test_idx= np.arange(i*40, ((i+1)*40) , 1)\n",
    "    train_idx = np.setdiff1d(np.arange(200),test_idx) \n",
    "    \n",
    "    XtestFold = Xa[test_idx, :]\n",
    "    yTestFold = ya[test_idx]\n",
    "    \n",
    "    XtrainFold = Xa[train_idx, :]\n",
    "    yTrainFold = ya[train_idx]\n",
    "    #print(XtrainFold)\n",
    "    #print(yTrainFold)\n",
    "    for index, item in enumerate(XtestFold):\n",
    "        oneNND2a.reset()\n",
    "        oneNND2a.getNeighbor(XtrainFold, item , yTrainFold)\n",
    "    er = np.absolute(np.array(oneNND2a.testResult[:,1]) - np.array(yTestFold) )\n",
    "    #print('pred',oneNND2a.testResult[:,1])\n",
    "    #print(np.array(yTestFold) )\n",
    "    print('erro',sum(er))\n",
    "    netCv +=sum(er)\n",
    "    print (netCv) \n",
    "    #print('---')\n",
    "    #print(XtestFold)\n",
    "\n"
   ]
  },
  {
   "cell_type": "code",
   "execution_count": null,
   "metadata": {},
   "outputs": [],
   "source": [
    "oneNND2a = nearestNeighbour()\n",
    "#random shuffle\n",
    "netCv=0\n",
    "for i in range(5):\n",
    "    \n",
    "    oneNND2a.testResult = np.empty((0,2))\n",
    "    er=0\n",
    "    test_idx= np.arange(i*40, ((i+1)*40) , 1)\n",
    "    train_idx = np.setdiff1d(np.arange(200),test_idx) \n",
    "    XtestFold = Xa[test_idx, :]\n",
    "    yTestFold = ya[test_idx]\n",
    "    \n",
    "    XtrainFold = Xa[train_idx, :]\n",
    "    yTrainFold = ya[train_idx]\n",
    "    #print(XtrainFold)\n",
    "    #print(yTrainFold)\n",
    "    for index, item in enumerate(XtestFold):\n",
    "        oneNND2a.reset()\n",
    "        oneNND2a.getNeighbor(XtrainFold, item , yTrainFold)\n",
    "    er = np.absolute(np.array(oneNND2a.testResult[:,1]) - np.array(yTestFold) )\n",
    "    #print('pred',oneNND2a.testResult[:,1])\n",
    "    #print(np.array(yTestFold) )\n",
    "    #print('erro',sum(er))\n",
    "    netCv +=sum(er)\n",
    "    print (netCv) \n",
    "   # print('---')\n",
    "    #print(XtestFold)\n",
    "\n"
   ]
  },
  {
   "cell_type": "code",
   "execution_count": 12,
   "metadata": {},
   "outputs": [
    {
     "name": "stdout",
     "output_type": "stream",
     "text": [
      "KFold(n_splits=5, random_state=None, shuffle=False)\n",
      "train [ 40  41  42  43  44  45  46  47  48  49  50  51  52  53  54  55  56  57\n",
      "  58  59  60  61  62  63  64  65  66  67  68  69  70  71  72  73  74  75\n",
      "  76  77  78  79  80  81  82  83  84  85  86  87  88  89  90  91  92  93\n",
      "  94  95  96  97  98  99 100 101 102 103 104 105 106 107 108 109 110 111\n",
      " 112 113 114 115 116 117 118 119 120 121 122 123 124 125 126 127 128 129\n",
      " 130 131 132 133 134 135 136 137 138 139 140 141 142 143 144 145 146 147\n",
      " 148 149 150 151 152 153 154 155 156 157 158 159 160 161 162 163 164 165\n",
      " 166 167 168 169 170 171 172 173 174 175 176 177 178 179 180 181 182 183\n",
      " 184 185 186 187 188 189 190 191 192 193 194 195 196 197 198 199] test [ 0  1  2  3  4  5  6  7  8  9 10 11 12 13 14 15 16 17 18 19 20 21 22 23\n",
      " 24 25 26 27 28 29 30 31 32 33 34 35 36 37 38 39]\n",
      "0.0\n",
      "train [  0   1   2   3   4   5   6   7   8   9  10  11  12  13  14  15  16  17\n",
      "  18  19  20  21  22  23  24  25  26  27  28  29  30  31  32  33  34  35\n",
      "  36  37  38  39  80  81  82  83  84  85  86  87  88  89  90  91  92  93\n",
      "  94  95  96  97  98  99 100 101 102 103 104 105 106 107 108 109 110 111\n",
      " 112 113 114 115 116 117 118 119 120 121 122 123 124 125 126 127 128 129\n",
      " 130 131 132 133 134 135 136 137 138 139 140 141 142 143 144 145 146 147\n",
      " 148 149 150 151 152 153 154 155 156 157 158 159 160 161 162 163 164 165\n",
      " 166 167 168 169 170 171 172 173 174 175 176 177 178 179 180 181 182 183\n",
      " 184 185 186 187 188 189 190 191 192 193 194 195 196 197 198 199] test [40 41 42 43 44 45 46 47 48 49 50 51 52 53 54 55 56 57 58 59 60 61 62 63\n",
      " 64 65 66 67 68 69 70 71 72 73 74 75 76 77 78 79]\n",
      "0.0\n",
      "train [  0   1   2   3   4   5   6   7   8   9  10  11  12  13  14  15  16  17\n",
      "  18  19  20  21  22  23  24  25  26  27  28  29  30  31  32  33  34  35\n",
      "  36  37  38  39  40  41  42  43  44  45  46  47  48  49  50  51  52  53\n",
      "  54  55  56  57  58  59  60  61  62  63  64  65  66  67  68  69  70  71\n",
      "  72  73  74  75  76  77  78  79 120 121 122 123 124 125 126 127 128 129\n",
      " 130 131 132 133 134 135 136 137 138 139 140 141 142 143 144 145 146 147\n",
      " 148 149 150 151 152 153 154 155 156 157 158 159 160 161 162 163 164 165\n",
      " 166 167 168 169 170 171 172 173 174 175 176 177 178 179 180 181 182 183\n",
      " 184 185 186 187 188 189 190 191 192 193 194 195 196 197 198 199] test [ 80  81  82  83  84  85  86  87  88  89  90  91  92  93  94  95  96  97\n",
      "  98  99 100 101 102 103 104 105 106 107 108 109 110 111 112 113 114 115\n",
      " 116 117 118 119]\n",
      "0.0\n",
      "train [  0   1   2   3   4   5   6   7   8   9  10  11  12  13  14  15  16  17\n",
      "  18  19  20  21  22  23  24  25  26  27  28  29  30  31  32  33  34  35\n",
      "  36  37  38  39  40  41  42  43  44  45  46  47  48  49  50  51  52  53\n",
      "  54  55  56  57  58  59  60  61  62  63  64  65  66  67  68  69  70  71\n",
      "  72  73  74  75  76  77  78  79  80  81  82  83  84  85  86  87  88  89\n",
      "  90  91  92  93  94  95  96  97  98  99 100 101 102 103 104 105 106 107\n",
      " 108 109 110 111 112 113 114 115 116 117 118 119 160 161 162 163 164 165\n",
      " 166 167 168 169 170 171 172 173 174 175 176 177 178 179 180 181 182 183\n",
      " 184 185 186 187 188 189 190 191 192 193 194 195 196 197 198 199] test [120 121 122 123 124 125 126 127 128 129 130 131 132 133 134 135 136 137\n",
      " 138 139 140 141 142 143 144 145 146 147 148 149 150 151 152 153 154 155\n",
      " 156 157 158 159]\n",
      "0.0\n",
      "train [  0   1   2   3   4   5   6   7   8   9  10  11  12  13  14  15  16  17\n",
      "  18  19  20  21  22  23  24  25  26  27  28  29  30  31  32  33  34  35\n",
      "  36  37  38  39  40  41  42  43  44  45  46  47  48  49  50  51  52  53\n",
      "  54  55  56  57  58  59  60  61  62  63  64  65  66  67  68  69  70  71\n",
      "  72  73  74  75  76  77  78  79  80  81  82  83  84  85  86  87  88  89\n",
      "  90  91  92  93  94  95  96  97  98  99 100 101 102 103 104 105 106 107\n",
      " 108 109 110 111 112 113 114 115 116 117 118 119 120 121 122 123 124 125\n",
      " 126 127 128 129 130 131 132 133 134 135 136 137 138 139 140 141 142 143\n",
      " 144 145 146 147 148 149 150 151 152 153 154 155 156 157 158 159] test [160 161 162 163 164 165 166 167 168 169 170 171 172 173 174 175 176 177\n",
      " 178 179 180 181 182 183 184 185 186 187 188 189 190 191 192 193 194 195\n",
      " 196 197 198 199]\n",
      "0.0\n"
     ]
    },
    {
     "data": {
      "text/plain": [
       "array([0., 0., 0., 0., 0., 0., 0., 0., 0., 0., 0., 0., 0., 0., 0., 0., 0.,\n",
       "       0., 0., 0., 0., 0., 0., 0., 0., 0., 0., 0., 0., 0., 0., 0., 0., 0.,\n",
       "       0., 0., 0., 0., 0., 0.])"
      ]
     },
     "execution_count": 12,
     "metadata": {},
     "output_type": "execute_result"
    }
   ],
   "source": [
    "oneNND2a = nearestNeighbour()\n",
    "netCv=0\n",
    "\n",
    "from sklearn.model_selection import KFold # import KFold\n",
    "X = Xa # create an array\n",
    "y = ya # Create another array\n",
    "kf = KFold(n_splits=5) # Define the split - into 2 folds \n",
    "kf.get_n_splits(X) # returns the number of splitting iterations in the cross-validator\n",
    "print(kf) \n",
    "KFold(n_splits=5, random_state=None, shuffle=False)\n",
    "\n",
    "for train_index, test_index in kf.split(X):\n",
    "    print('train',train_index,'test', test_index)\n",
    "    X_train, X_test = X[train_index], X[test_index]\n",
    "    y_train, y_test = y[train_index], y[test_index]\n",
    "    \n",
    "    er=0\n",
    "    oneNND2a.testResult = np.empty((0,2))\n",
    "    for index, item in enumerate(X_test):\n",
    "        oneNND2a.reset()\n",
    "        oneNND2a.getNeighbor(X_train, item , y_train)\n",
    "    er = np.absolute(np.array(oneNND2a.testResult[:,1]) - np.array(y_test) )\n",
    "    netCv +=sum(er)\n",
    "    print (netCv) \n",
    "er"
   ]
  }
 ],
 "metadata": {
  "kernelspec": {
   "display_name": "Python 3",
   "language": "python",
   "name": "python3"
  },
  "language_info": {
   "codemirror_mode": {
    "name": "ipython",
    "version": 3
   },
   "file_extension": ".py",
   "mimetype": "text/x-python",
   "name": "python",
   "nbconvert_exporter": "python",
   "pygments_lexer": "ipython3",
   "version": "3.7.3"
  }
 },
 "nbformat": 4,
 "nbformat_minor": 2
}
